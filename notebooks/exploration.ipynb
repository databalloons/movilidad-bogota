{
 "cells": [
  {
   "cell_type": "code",
   "execution_count": null,
   "metadata": {},
   "outputs": [],
   "source": [
    "import geopandas as gpd\n",
    "import pandas as pd"
   ]
  },
  {
   "cell_type": "code",
   "execution_count": null,
   "metadata": {},
   "outputs": [],
   "source": [
    "df_viajes = pd.read_csv('../data/csv/ViajesEODH_2019.csv')\n",
    "gdf_zat = gpd.read_file('../data/shp/ZAT.shp', encoding='utf-8')"
   ]
  },
  {
   "cell_type": "code",
   "execution_count": null,
   "metadata": {},
   "outputs": [],
   "source": [
    "map_motivos_viaje = {\n",
    "    1: 'Trabajar',\n",
    "    2: 'Asuntos de trabajo',\n",
    "    3: 'Estudiar',\n",
    "    4: 'Atencion de salud',\n",
    "    5: 'Ver a alguien',\n",
    "    6: 'Volver a casa',\n",
    "    7: 'Buscar o dejar a alguien',\n",
    "    8: 'Buscar o dejar algo',\n",
    "    9: 'Comer',\n",
    "    10: 'Compras',\n",
    "    11: 'Tramites',\n",
    "    12: 'Recreacion y cultura',\n",
    "    13: 'Buscar trabajo',\n",
    "    14: 'Actividades con fines religoso',\n",
    "    15: 'Cuidado personal',\n",
    "    16: 'Actividad fisica',\n",
    "    77: 'Otro'\n",
    "}"
   ]
  },
  {
   "cell_type": "code",
   "execution_count": null,
   "metadata": {},
   "outputs": [],
   "source": [
    "df_viajes['motivo'] = df_viajes['p17_Id_motivo_viaje'].map(map_motivos_viaje)"
   ]
  },
  {
   "cell_type": "code",
   "execution_count": null,
   "metadata": {},
   "outputs": [],
   "source": [
    "map_modos_viaje = {\n",
    "    'TransMilenio': 'Transporte publico',\n",
    "    'SITP Zonal': 'Transporte publico',\n",
    "    'SITP Provisional': 'Transporte publico',\n",
    "    'Transporte informal': 'Transporte informal',\n",
    "    \n",
    "}"
   ]
  },
  {
   "cell_type": "code",
   "execution_count": null,
   "metadata": {},
   "outputs": [],
   "source": [
    "df_viajes['modo'] = df_viajes['modo_principal'].map(map_modos_viaje)"
   ]
  },
  {
   "cell_type": "markdown",
   "metadata": {},
   "source": [
    "#### Viajes por modo de transporte"
   ]
  },
  {
   "cell_type": "code",
   "execution_count": null,
   "metadata": {},
   "outputs": [],
   "source": [
    "df_viajes.groupby('modo_principal')['f_exp'].sum().sort_values(ascending=True).plot.barh()"
   ]
  },
  {
   "cell_type": "markdown",
   "metadata": {},
   "source": [
    "¿Por qué salen UTAMs en modo viaje?\n",
    "\n",
    "¿Están reportados los viajes de los domiciliarios en la encuesta?\n",
    "\n",
    "¿Afectan los domiciliaros la movilidad de la ciudad?\n",
    "\n",
    "¿La patineta es eléctrica o no?\n",
    "\n",
    "¿Qué hace la gente en transporte informal?\n",
    "\n",
    "Toca estudiar el fenómeno de cómo se mueve la gente para temas médicos. Es posbile que la gente se mueva largas distancias porque las clínicas son especializadas. ¿Esto es real?"
   ]
  },
  {
   "cell_type": "markdown",
   "metadata": {},
   "source": [
    "### Motivo viajes"
   ]
  },
  {
   "cell_type": "code",
   "execution_count": null,
   "metadata": {},
   "outputs": [],
   "source": [
    "df_viajes.groupby('motivo')['f_exp'].sum().sort_values(ascending=True).plot.barh()"
   ]
  },
  {
   "cell_type": "markdown",
   "metadata": {},
   "source": [
    "¿Por qué es tan alto el número de viajes?"
   ]
  },
  {
   "cell_type": "code",
   "execution_count": null,
   "metadata": {},
   "outputs": [],
   "source": [
    "df_viajes.query('motivo == \"Volver a casa\"')['f_exp'].sum()"
   ]
  },
  {
   "cell_type": "code",
   "execution_count": null,
   "metadata": {},
   "outputs": [],
   "source": [
    "df_viajes.query('motivo != \"Volver a casa\"')['f_exp'].sum()"
   ]
  },
  {
   "cell_type": "code",
   "execution_count": null,
   "metadata": {},
   "outputs": [],
   "source": [
    "df_viajes.query('modo_principal == \"Patineta\"')['f_exp'].sum()"
   ]
  },
  {
   "cell_type": "markdown",
   "metadata": {},
   "source": [
    "### Transporte informal"
   ]
  },
  {
   "cell_type": "code",
   "execution_count": null,
   "metadata": {},
   "outputs": [],
   "source": [
    "df_viajes.query('modo_principal == \"Transporte informal\"').groupby('motivo')['f_exp'].sum().sort_values(ascending=True).plot.barh()"
   ]
  },
  {
   "cell_type": "markdown",
   "metadata": {},
   "source": [
    "### Transporte escolar"
   ]
  },
  {
   "cell_type": "code",
   "execution_count": null,
   "metadata": {},
   "outputs": [],
   "source": [
    "df_viajes.query('modo_principal == \"Transporte Escolar\"').groupby('motivo')['f_exp'].sum().sort_values(ascending=True).plot.barh()"
   ]
  },
  {
   "cell_type": "code",
   "execution_count": null,
   "metadata": {},
   "outputs": [],
   "source": [
    "df_viajes.query('modo_principal == \"Transporte Escolar\"')['motivo'].value_counts()"
   ]
  },
  {
   "cell_type": "code",
   "execution_count": null,
   "metadata": {},
   "outputs": [],
   "source": [
    "df_viajes.query('modo_principal == \"Transporte Escolar\" and motivo in (\"Trabajar\")')['f_exp'].sum()"
   ]
  },
  {
   "cell_type": "code",
   "execution_count": null,
   "metadata": {},
   "outputs": [],
   "source": [
    "df_viajes.query('modo_principal == \"Transporte Escolar\" and motivo not in (\"Volver a casa\", \"Estudiar\", \"Trabajar\")')"
   ]
  },
  {
   "cell_type": "markdown",
   "metadata": {},
   "source": [
    "### Motivo de viaje para viajes hechos a pie"
   ]
  },
  {
   "cell_type": "code",
   "execution_count": null,
   "metadata": {
    "scrolled": true
   },
   "outputs": [],
   "source": [
    "df_viajes.query('modo_principal == \"A pie\"').groupby('motivo')['f_exp'].sum().sort_values(ascending=True).plot.barh()"
   ]
  },
  {
   "cell_type": "code",
   "execution_count": null,
   "metadata": {},
   "outputs": [],
   "source": [
    "df_viajes.query('modo_principal == \"A pie\" and motivo == \"Volver a casa\"')['f_exp'].sum()"
   ]
  },
  {
   "cell_type": "code",
   "execution_count": null,
   "metadata": {},
   "outputs": [],
   "source": [
    "df_viajes.query('modo_principal == \"A pie\" and motivo != \"Volver a casa\"')['f_exp'].sum()"
   ]
  },
  {
   "cell_type": "markdown",
   "metadata": {},
   "source": [
    "### Horarios de regreso\n",
    "¿A qué horas vuelve la gente y de dónde vuelve?"
   ]
  },
  {
   "cell_type": "code",
   "execution_count": null,
   "metadata": {},
   "outputs": [],
   "source": []
  },
  {
   "cell_type": "code",
   "execution_count": null,
   "metadata": {},
   "outputs": [],
   "source": []
  },
  {
   "cell_type": "code",
   "execution_count": null,
   "metadata": {},
   "outputs": [],
   "source": []
  },
  {
   "cell_type": "markdown",
   "metadata": {},
   "source": []
  }
 ],
 "metadata": {
  "kernelspec": {
   "display_name": "Python 3",
   "language": "python",
   "name": "python3"
  },
  "language_info": {
   "codemirror_mode": {
    "name": "ipython",
    "version": 3
   },
   "file_extension": ".py",
   "mimetype": "text/x-python",
   "name": "python",
   "nbconvert_exporter": "python",
   "pygments_lexer": "ipython3",
   "version": "3.8.3"
  }
 },
 "nbformat": 4,
 "nbformat_minor": 4
}
