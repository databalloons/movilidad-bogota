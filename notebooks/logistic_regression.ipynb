{
 "cells": [
  {
   "cell_type": "code",
   "execution_count": null,
   "metadata": {
    "pycharm": {
     "name": "#%%\n"
    }
   },
   "outputs": [],
   "source": [
    "import geopandas as gpd\n",
    "import numpy as np\n",
    "import pandas as pd"
   ]
  },
  {
   "cell_type": "code",
   "execution_count": null,
   "metadata": {},
   "outputs": [],
   "source": [
    "cols = ['id_hogar', 'id_persona', 'p4_edad', 'p5_id_nivel_educativo', 'p6_id_ocupacion', 'p13v_condujo_bicicleta', 'f_exp', 'Sexo']\n",
    "df_hogares = pd.read_csv('../data/csv/HogaresEODH_2019.csv', sep=';')\n",
    "df_personas = pd.read_csv('../data/csv/PersonasEODH_2019.csv', sep=';', usecols=cols)"
   ]
  },
  {
   "cell_type": "code",
   "execution_count": null,
   "metadata": {},
   "outputs": [],
   "source": [
    "df_hogares['vehiculo'] = df_hogares[['p1mc_automovil', 'p1mc_camionetas', 'p1mc_pickup', 'p1mc_motocicleta']].sum(axis=1).astype(bool)"
   ]
  },
  {
   "cell_type": "code",
   "execution_count": null,
   "metadata": {},
   "outputs": [],
   "source": [
    "df = df_personas.merge(df_hogares[['Id_Hogar', 'vehiculo']], left_on='id_hogar', right_on='Id_Hogar').drop(['Id_Hogar'], axis=1)"
   ]
  },
  {
   "cell_type": "code",
   "execution_count": null,
   "metadata": {},
   "outputs": [],
   "source": [
    "df['p13v_condujo_bicicleta'] = df['p13v_condujo_bicicleta'].map({1: True, 2: False})"
   ]
  },
  {
   "cell_type": "code",
   "execution_count": null,
   "metadata": {},
   "outputs": [],
   "source": [
    "est_cod = list(range(1, 6))\n",
    "est_dicc = dict.fromkeys(est_cod, 'Estudia')\n",
    "\n",
    "trab_cod = list(range(11, 22))\n",
    "trab_dicc = dict.fromkeys(trab_cod, 'Trabaja')\n",
    "\n",
    "otro_cod = list(range(31, 39))\n",
    "otro_dicc = dict.fromkeys(otro_cod, 'Otro')\n",
    "\n",
    "d = {**est_dicc, **trab_dicc, **otro_dicc}\n",
    "\n",
    "dicc_nivel_ed = {\n",
    "    1: 'Primaria',\n",
    "    2: 'Primaria',\n",
    "    3: 'Primaria',\n",
    "    4: 'Primaria',\n",
    "    5: 'Primaria',\n",
    "    6: 'Primaria',\n",
    "    7: 'Media',\n",
    "    8: 'Media',\n",
    "    9: 'Superior',\n",
    "    10: 'Media',\n",
    "    11: 'Superior',\n",
    "    12: 'Superior',\n",
    "    13: 'Posgrado',\n",
    "    14: 'Ninguno'\n",
    "}"
   ]
  },
  {
   "cell_type": "code",
   "execution_count": null,
   "metadata": {},
   "outputs": [],
   "source": [
    "df['p6_id_ocupacion'] = df['p6_id_ocupacion'].map(d)\n",
    "df['p5_id_nivel_educativo'] = df['p5_id_nivel_educativo'].map(dicc_nivel_ed)"
   ]
  },
  {
   "cell_type": "code",
   "execution_count": null,
   "metadata": {},
   "outputs": [],
   "source": [
    "df = df.drop(['id_hogar', 'id_persona', 'f_exp'], axis=1).dropna()"
   ]
  },
  {
   "cell_type": "code",
   "execution_count": null,
   "metadata": {},
   "outputs": [],
   "source": [
    "df = pd.concat([df, pd.get_dummies(df['p6_id_ocupacion'])], axis=1)\n",
    "df = pd.concat([df, pd.get_dummies(df['p5_id_nivel_educativo'])], axis=1)"
   ]
  },
  {
   "cell_type": "code",
   "execution_count": null,
   "metadata": {},
   "outputs": [],
   "source": [
    "df = df.drop(['p5_id_nivel_educativo', 'p6_id_ocupacion'], axis=1)"
   ]
  },
  {
   "cell_type": "code",
   "execution_count": null,
   "metadata": {},
   "outputs": [],
   "source": [
    "df['Sexo'] = df['Sexo'].map({'Mujer': 0, 'Hombre': 1})"
   ]
  },
  {
   "cell_type": "code",
   "execution_count": null,
   "metadata": {},
   "outputs": [],
   "source": [
    "df['vehiculo'] = df['vehiculo'].astype(int)\n",
    "df['p13v_condujo_bicicleta'] = df['p13v_condujo_bicicleta'].astype(int)"
   ]
  },
  {
   "cell_type": "code",
   "execution_count": null,
   "metadata": {},
   "outputs": [],
   "source": [
    "# count = df['p13v_condujo_bicicleta'].sum()\n",
    "# remove_n = df.query('p13v_condujo_bicicleta == 0').shape[0] - count"
   ]
  },
  {
   "cell_type": "code",
   "execution_count": null,
   "metadata": {},
   "outputs": [],
   "source": [
    "# drop_indices = np.random.choice(df.query('p13v_condujo_bicicleta == 0').index, remove_n, replace=False)\n",
    "# df = df.drop(drop_indices)"
   ]
  },
  {
   "cell_type": "code",
   "execution_count": null,
   "metadata": {},
   "outputs": [],
   "source": [
    "from sklearn.linear_model import LogisticRegression\n",
    "from sklearn.model_selection import train_test_split"
   ]
  },
  {
   "cell_type": "code",
   "execution_count": null,
   "metadata": {},
   "outputs": [],
   "source": [
    "X_train, X_test, y_train, y_test = train_test_split(df.drop(['p13v_condujo_bicicleta'], axis=1), df['p13v_condujo_bicicleta'], random_state=42)"
   ]
  },
  {
   "cell_type": "code",
   "execution_count": null,
   "metadata": {},
   "outputs": [],
   "source": [
    "clf = LogisticRegression(random_state=0, max_iter=1000).fit(X_train, y_train)"
   ]
  },
  {
   "cell_type": "code",
   "execution_count": null,
   "metadata": {},
   "outputs": [],
   "source": [
    "clf.score(X_test, y_test)"
   ]
  },
  {
   "cell_type": "code",
   "execution_count": null,
   "metadata": {},
   "outputs": [],
   "source": [
    "result = clf.predict(X_test)"
   ]
  },
  {
   "cell_type": "code",
   "execution_count": null,
   "metadata": {},
   "outputs": [],
   "source": [
    "(result == y_test.values).sum()"
   ]
  },
  {
   "cell_type": "code",
   "execution_count": null,
   "metadata": {},
   "outputs": [],
   "source": [
    "(result == y_test.values)"
   ]
  },
  {
   "cell_type": "code",
   "execution_count": null,
   "metadata": {
    "scrolled": true
   },
   "outputs": [],
   "source": [
    "probas = clf.predict_proba(df.drop(['p13v_condujo_bicicleta'], axis=1))"
   ]
  },
  {
   "cell_type": "code",
   "execution_count": null,
   "metadata": {},
   "outputs": [],
   "source": [
    "probas"
   ]
  },
  {
   "cell_type": "code",
   "execution_count": null,
   "metadata": {},
   "outputs": [],
   "source": []
  },
  {
   "cell_type": "code",
   "execution_count": null,
   "metadata": {},
   "outputs": [],
   "source": [
    "df['proba'] = probas[..., 1]"
   ]
  },
  {
   "cell_type": "code",
   "execution_count": null,
   "metadata": {},
   "outputs": [],
   "source": [
    "df"
   ]
  },
  {
   "cell_type": "code",
   "execution_count": null,
   "metadata": {},
   "outputs": [],
   "source": [
    "X_test['prediccion'] = result\n",
    "X_test['real'] = y_test"
   ]
  }
 ],
 "metadata": {
  "kernelspec": {
   "display_name": "Python 3",
   "language": "python",
   "name": "python3"
  },
  "language_info": {
   "codemirror_mode": {
    "name": "ipython",
    "version": 3
   },
   "file_extension": ".py",
   "mimetype": "text/x-python",
   "name": "python",
   "nbconvert_exporter": "python",
   "pygments_lexer": "ipython3",
   "version": "3.8.3"
  }
 },
 "nbformat": 4,
 "nbformat_minor": 4
}
