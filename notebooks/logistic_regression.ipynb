{
 "cells": [
  {
   "cell_type": "code",
   "execution_count": 50,
   "metadata": {
    "pycharm": {
     "name": "#%%\n"
    }
   },
   "outputs": [],
   "source": [
    "import geopandas as gpd\n",
    "import numpy as np\n",
    "import pandas as pd\n",
    "import joblib\n",
    "\n",
    "from sklearn.linear_model import LogisticRegression\n",
    "from sklearn.model_selection import train_test_split"
   ]
  },
  {
   "cell_type": "code",
   "execution_count": 128,
   "metadata": {},
   "outputs": [],
   "source": [
    "def prepare_dataframe(df, modo='predict'):\n",
    "    \n",
    "    if ( modo == 'predict' ):\n",
    "        df = df.drop(columns='p13v_condujo_bicicleta').dropna()\n",
    "    elif (modo == 'train' ):\n",
    "        df = df.drop(['id_hogar', 'id_persona', 'f_exp'], axis=1).dropna()\n",
    "        \n",
    "    df = pd.concat([df, pd.get_dummies(df['p6_id_ocupacion'])], axis=1)\n",
    "    df = pd.concat([df, pd.get_dummies(df['p5_id_nivel_educativo'])], axis=1)\n",
    "    df = df.drop(['p5_id_nivel_educativo', 'p6_id_ocupacion'], axis=1)\n",
    "    df['Sexo'] = df['Sexo'].map({'Mujer': 0, 'Hombre': 1})\n",
    "    df['vehiculo'] = df['vehiculo'].astype(int)\n",
    "    \n",
    "    \n",
    "    if ( modo == 'predict' ):\n",
    "        return df[['p4_edad', 'Sexo', 'vehiculo', 'Estudia', 'Otro', 'Trabaja', 'Media', 'Ninguno', 'Posgrado', 'Primaria', 'Superior']]\n",
    "        \n",
    "    elif (modo == 'train' ):\n",
    "        df['p13v_condujo_bicicleta'] = df['p13v_condujo_bicicleta'].astype(int)\n",
    "        return df"
   ]
  },
  {
   "cell_type": "code",
   "execution_count": 158,
   "metadata": {},
   "outputs": [
    {
     "name": "stderr",
     "output_type": "stream",
     "text": [
      "/Users/juan/Documents/DataBalloons/movilidad-bogota/movilidad-bogota/lib/python3.7/site-packages/IPython/core/interactiveshell.py:3072: DtypeWarning: Columns (12,13) have mixed types.Specify dtype option on import or set low_memory=False.\n",
      "  interactivity=interactivity, compiler=compiler, result=result)\n"
     ]
    }
   ],
   "source": [
    "cols = ['id_hogar', 'id_persona', 'p4_edad', 'p5_id_nivel_educativo', 'p6_id_ocupacion', \n",
    "        'p13v_condujo_bicicleta', 'f_exp', 'Sexo']\n",
    "\n",
    "df_hogares = pd.read_csv('../data/csv/HogaresEODH_2019.csv', sep=';')\n",
    "df_personas = pd.read_csv('../data/csv/PersonasEODH_2019.csv', sep=';', usecols=cols)\n",
    "df_viajes = pd.read_csv('../data/csv/ViajesEODH_2019.csv')"
   ]
  },
  {
   "cell_type": "code",
   "execution_count": 99,
   "metadata": {},
   "outputs": [],
   "source": [
    "df_hogares['vehiculo'] = df_hogares[['p1mc_automovil', 'p1mc_camionetas', 'p1mc_pickup', 'p1mc_motocicleta']].sum(axis=1).astype(bool)"
   ]
  },
  {
   "cell_type": "code",
   "execution_count": 100,
   "metadata": {},
   "outputs": [],
   "source": [
    "df = df_personas.merge(df_hogares[['Id_Hogar', 'vehiculo']], left_on='id_hogar', right_on='Id_Hogar').drop(['Id_Hogar'], axis=1)"
   ]
  },
  {
   "cell_type": "code",
   "execution_count": 101,
   "metadata": {},
   "outputs": [],
   "source": [
    "df['p13v_condujo_bicicleta'] = df['p13v_condujo_bicicleta'].map({1: True, 2: False})"
   ]
  },
  {
   "cell_type": "code",
   "execution_count": 102,
   "metadata": {},
   "outputs": [],
   "source": [
    "est_cod = list(range(1, 6))\n",
    "est_dicc = dict.fromkeys(est_cod, 'Estudia')\n",
    "\n",
    "trab_cod = list(range(11, 22))\n",
    "trab_dicc = dict.fromkeys(trab_cod, 'Trabaja')\n",
    "\n",
    "otro_cod = list(range(31, 39))\n",
    "otro_dicc = dict.fromkeys(otro_cod, 'Otro')\n",
    "\n",
    "d = {**est_dicc, **trab_dicc, **otro_dicc}\n",
    "\n",
    "dicc_nivel_ed = {\n",
    "    1: 'Primaria',\n",
    "    2: 'Primaria',\n",
    "    3: 'Primaria',\n",
    "    4: 'Primaria',\n",
    "    5: 'Primaria',\n",
    "    6: 'Primaria',\n",
    "    7: 'Media',\n",
    "    8: 'Media',\n",
    "    9: 'Superior',\n",
    "    10: 'Media',\n",
    "    11: 'Superior',\n",
    "    12: 'Superior',\n",
    "    13: 'Posgrado',\n",
    "    14: 'Ninguno'\n",
    "}"
   ]
  },
  {
   "cell_type": "code",
   "execution_count": 103,
   "metadata": {},
   "outputs": [],
   "source": [
    "df['p6_id_ocupacion'] = df['p6_id_ocupacion'].map(d)\n",
    "df['p5_id_nivel_educativo'] = df['p5_id_nivel_educativo'].map(dicc_nivel_ed)"
   ]
  },
  {
   "cell_type": "code",
   "execution_count": 113,
   "metadata": {},
   "outputs": [],
   "source": [
    "df1 = prepare_dataframe(df, 'train')"
   ]
  },
  {
   "cell_type": "code",
   "execution_count": 114,
   "metadata": {},
   "outputs": [],
   "source": [
    "X_train, X_test, y_train, y_test = train_test_split(df1.drop(['p13v_condujo_bicicleta'], axis=1), df1['p13v_condujo_bicicleta'], random_state=42)"
   ]
  },
  {
   "cell_type": "code",
   "execution_count": 117,
   "metadata": {},
   "outputs": [],
   "source": [
    "clf = LogisticRegression(random_state=0, max_iter=1000).fit(X_train, y_train)"
   ]
  },
  {
   "cell_type": "code",
   "execution_count": 118,
   "metadata": {},
   "outputs": [
    {
     "data": {
      "text/plain": [
       "0.9200918666349885"
      ]
     },
     "execution_count": 118,
     "metadata": {},
     "output_type": "execute_result"
    }
   ],
   "source": [
    "clf.score(X_test, y_test)"
   ]
  },
  {
   "cell_type": "code",
   "execution_count": 119,
   "metadata": {},
   "outputs": [],
   "source": [
    "result = clf.predict(X_test)"
   ]
  },
  {
   "cell_type": "code",
   "execution_count": 120,
   "metadata": {},
   "outputs": [
    {
     "data": {
      "text/plain": [
       "11618"
      ]
     },
     "execution_count": 120,
     "metadata": {},
     "output_type": "execute_result"
    }
   ],
   "source": [
    "(result == y_test.values).sum()"
   ]
  },
  {
   "cell_type": "code",
   "execution_count": 121,
   "metadata": {},
   "outputs": [
    {
     "data": {
      "text/plain": [
       "array([ True,  True,  True, ...,  True,  True, False])"
      ]
     },
     "execution_count": 121,
     "metadata": {},
     "output_type": "execute_result"
    }
   ],
   "source": [
    "(result == y_test.values)"
   ]
  },
  {
   "cell_type": "code",
   "execution_count": 123,
   "metadata": {
    "scrolled": true
   },
   "outputs": [],
   "source": [
    "probas = clf.predict_proba(df1.drop(['p13v_condujo_bicicleta'], axis=1))"
   ]
  },
  {
   "cell_type": "code",
   "execution_count": 135,
   "metadata": {},
   "outputs": [],
   "source": [
    "df1['proba'] = probas[..., 1]"
   ]
  },
  {
   "cell_type": "code",
   "execution_count": 25,
   "metadata": {},
   "outputs": [],
   "source": [
    "X_test['prediccion'] = result\n",
    "X_test['real'] = y_test"
   ]
  },
  {
   "cell_type": "code",
   "execution_count": 137,
   "metadata": {},
   "outputs": [],
   "source": [
    "proba2 = clf.predict_proba(prepare_dataframe(df))"
   ]
  },
  {
   "cell_type": "code",
   "execution_count": 138,
   "metadata": {},
   "outputs": [
    {
     "data": {
      "text/plain": [
       "(63244, 2)"
      ]
     },
     "execution_count": 138,
     "metadata": {},
     "output_type": "execute_result"
    }
   ],
   "source": [
    "proba2.shape"
   ]
  },
  {
   "cell_type": "code",
   "execution_count": 140,
   "metadata": {},
   "outputs": [],
   "source": [
    "df2['proba'] = proba2[..., 1]"
   ]
  },
  {
   "cell_type": "code",
   "execution_count": 150,
   "metadata": {},
   "outputs": [],
   "source": [
    "df_personas_prob = pd.merge(df2, df_hogares[['Id_Hogar', 'zat_hogar']], left_on='id_hogar', right_on='Id_Hogar')"
   ]
  },
  {
   "cell_type": "code",
   "execution_count": 151,
   "metadata": {},
   "outputs": [],
   "source": [
    "df_personas_prob['bici_prob'] = df_personas_prob.proba*df_personas.f_exp"
   ]
  },
  {
   "cell_type": "markdown",
   "metadata": {},
   "source": [
    "Personas que viajaron en bicla (Modelo):"
   ]
  },
  {
   "cell_type": "code",
   "execution_count": 154,
   "metadata": {},
   "outputs": [
    {
     "data": {
      "text/plain": [
       "688835.876454457"
      ]
     },
     "execution_count": 154,
     "metadata": {},
     "output_type": "execute_result"
    }
   ],
   "source": [
    "df_personas_prob.groupby('zat_hogar').sum().bici_prob.sum()"
   ]
  },
  {
   "cell_type": "markdown",
   "metadata": {},
   "source": [
    "Personas que viajaron en bicicleta (EODH): "
   ]
  },
  {
   "cell_type": "code",
   "execution_count": 163,
   "metadata": {},
   "outputs": [
    {
     "data": {
      "text/plain": [
       "562030.6208830468"
      ]
     },
     "execution_count": 163,
     "metadata": {},
     "output_type": "execute_result"
    }
   ],
   "source": [
    "df_viajes.query('modo_principal == \"Bicicleta\"').groupby(['id_hogar', 'id_persona']).first().f_exp.sum()"
   ]
  },
  {
   "cell_type": "markdown",
   "metadata": {},
   "source": [
    "Viajes totales en bicicleta (EODH):"
   ]
  },
  {
   "cell_type": "code",
   "execution_count": 164,
   "metadata": {},
   "outputs": [
    {
     "data": {
      "text/plain": [
       "1177867.731996233"
      ]
     },
     "execution_count": 164,
     "metadata": {},
     "output_type": "execute_result"
    }
   ],
   "source": [
    "df_viajes.query('modo_principal == \"Bicicleta\"').f_exp.sum()"
   ]
  },
  {
   "cell_type": "code",
   "execution_count": null,
   "metadata": {},
   "outputs": [],
   "source": []
  }
 ],
 "metadata": {
  "kernelspec": {
   "display_name": "movilidad-bogota",
   "language": "python",
   "name": "movilidad-bogota"
  },
  "language_info": {
   "codemirror_mode": {
    "name": "ipython",
    "version": 3
   },
   "file_extension": ".py",
   "mimetype": "text/x-python",
   "name": "python",
   "nbconvert_exporter": "python",
   "pygments_lexer": "ipython3",
   "version": "3.7.7"
  }
 },
 "nbformat": 4,
 "nbformat_minor": 4
}
