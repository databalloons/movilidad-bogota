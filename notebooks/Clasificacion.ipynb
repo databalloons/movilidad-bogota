{
 "cells": [
  {
   "cell_type": "code",
   "execution_count": null,
   "metadata": {},
   "outputs": [],
   "source": [
    "import pandas as pd\n",
    "from sklearn import linear_model\n",
    "from regressors import stats\n",
    "from sklearn import svm\n",
    "from sklearn.ensemble import ExtraTreesRegressor\n",
    "import numpy as np\n",
    "from sklearn import preprocessing\n",
    "from sklearn.preprocessing import StandardScaler"
   ]
  },
  {
   "cell_type": "code",
   "execution_count": null,
   "metadata": {},
   "outputs": [],
   "source": [
    "#leemos el df resultado del proceso anterior y borramos los NA\n",
    "df_or = pd.read_csv(\"input.csv\")\n",
    "df.dropna(inplace = True)"
   ]
  },
  {
   "cell_type": "code",
   "execution_count": null,
   "metadata": {},
   "outputs": [],
   "source": [
    "#preparamos los datos para el modelo, en especial la columna de USO\n",
    "le = preprocessing.LabelEncoder()\n",
    "scaler = StandardScaler()"
   ]
  },
  {
   "cell_type": "code",
   "execution_count": null,
   "metadata": {},
   "outputs": [],
   "source": [
    "#reemplazamos en la misma columna de USO el label encoder de scikit\n",
    "le.fit(df[\"USO\"])\n",
    "df[\"USO\"] = le.transform(df[\"USO\"])"
   ]
  },
  {
   "cell_type": "code",
   "execution_count": null,
   "metadata": {},
   "outputs": [],
   "source": [
    "#estandarizacion de datos y transformacion del df original listo para el modelo\n",
    "scaler.fit(df)\n",
    "df_ = scaler.transform(df)\n",
    "df = pd.DataFrame(df_, columns = df_or.columns)\n",
    "df = df.drop([\"ZAT\"], axis = 1)"
   ]
  },
  {
   "cell_type": "code",
   "execution_count": null,
   "metadata": {},
   "outputs": [],
   "source": [
    "#definimos las variables x, y de nuestro modelo\n",
    "x = df.drop([\"N_ORIGEN\", \"N_DESTINO\"], axis = 1)\n",
    "y = df[\"N_ORIGEN\"]\n",
    "y2 = df[\"N_DESTINO\"]"
   ]
  },
  {
   "cell_type": "code",
   "execution_count": null,
   "metadata": {},
   "outputs": [],
   "source": [
    "#regresion ridge\n",
    "reg_ridge = linear_model.Ridge(alpha=.5)\n",
    "reg_ridge.fit(x, y)\n",
    "reg_ridge.coef_\n",
    "reg_ridge.intercept_\n",
    "reg_ridge.score(x, y)"
   ]
  },
  {
   "cell_type": "code",
   "execution_count": null,
   "metadata": {},
   "outputs": [],
   "source": [
    "#arbol de decision\n",
    "tree = ExtraTreesRegressor(n_estimators=50)\n",
    "tree.fit(x, y)\n",
    "tree.feature_importances_"
   ]
  },
  {
   "cell_type": "code",
   "execution_count": null,
   "metadata": {},
   "outputs": [],
   "source": [
    "#al pasarle el resultado nos dice cuales son las variables mas importantes con respecto a al mean\n",
    "imp = tree.feature_importances_\n",
    "mean = np.mean(imp)\n",
    "bool_array = imp >= mean\n",
    "indices = []\n",
    "indices2 = []\n",
    "H = 0\n",
    "H2 = 0\n",
    "for q in range(len(bool_array)):\n",
    "    if ~bool_array[q]:\n",
    "        indices.append(H)\n",
    "    H = H+1     \n",
    "for w in range(len(bool_array)):\n",
    "    if bool_array[w]:\n",
    "        indices2.append(H2)\n",
    "    H2 = H2+1      \n",
    "columnas_eliminar = []\n",
    "columnas_restantes = []\n",
    "for ind in indices:\n",
    "    columnas_eliminar.append(x.columns[ind])\n",
    "for ind in indices2:\n",
    "    columnas_restantes.append(x.columns[ind])"
   ]
  },
  {
   "cell_type": "code",
   "execution_count": null,
   "metadata": {},
   "outputs": [],
   "source": [
    "#variables que no son importantes para el modelo\n",
    "columnas_eliminar"
   ]
  },
  {
   "cell_type": "code",
   "execution_count": null,
   "metadata": {},
   "outputs": [],
   "source": [
    "#variables significativas para el modelo\n",
    "columnas_restantes"
   ]
  }
 ],
 "metadata": {
  "kernelspec": {
   "display_name": "Python 3",
   "language": "python",
   "name": "python3"
  },
  "language_info": {
   "codemirror_mode": {
    "name": "ipython",
    "version": 3
   },
   "file_extension": ".py",
   "mimetype": "text/x-python",
   "name": "python",
   "nbconvert_exporter": "python",
   "pygments_lexer": "ipython3",
   "version": "3.7.6"
  }
 },
 "nbformat": 4,
 "nbformat_minor": 4
}
