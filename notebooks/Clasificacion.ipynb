{
 "cells": [
  {
   "cell_type": "code",
   "execution_count": 1,
   "metadata": {},
   "outputs": [],
   "source": [
    "import pandas as pd\n",
    "from sklearn import linear_model\n",
    "from regressors import stats\n",
    "from sklearn import svm\n",
    "from sklearn.ensemble import ExtraTreesRegressor\n",
    "import numpy as np\n",
    "from sklearn import preprocessing\n",
    "from sklearn.preprocessing import StandardScaler"
   ]
  },
  {
   "cell_type": "code",
   "execution_count": 2,
   "metadata": {},
   "outputs": [],
   "source": [
    "#leemos el df resultado del proceso anterior y borramos los NA\n",
    "df_or = pd.read_csv(\"input.csv\")\n",
    "df = pd.read_csv(\"input.csv\")\n",
    "df_or.dropna(inplace = True)\n",
    "df.dropna(inplace = True)"
   ]
  },
  {
   "cell_type": "code",
   "execution_count": 3,
   "metadata": {},
   "outputs": [],
   "source": [
    "df[\"Total_edad\"] = df[\"20-24\"]+df[\"25-59\"]+df[\"5-19\"]+df[\"60+\"]\n",
    "df[\"Total_sexo\"] = df[\"HOMBRE\"]+df[\"MUJER\"]\n",
    "df[\"Total_educacion\"] = df[\"MEDIA\"]+df[\"NINGUNA\"]+df[\"POSGRADO\"]+df[\"SUPERIOR\"]\n",
    "df[\"20-24\"] = df[\"20-24\"]/df[\"Total_edad\"]\n",
    "df[\"25-59\"] = df[\"25-59\"]/df[\"Total_edad\"]\n",
    "df[\"5-19\"] = df[\"5-19\"]/df[\"Total_edad\"]\n",
    "df[\"60+\"] = df[\"60+\"]/df[\"Total_edad\"]\n",
    "df[\"MEDIA\"] = df[\"MEDIA\"]/df[\"Total_educacion\"]\n",
    "df[\"NINGUNA\"] = df[\"NINGUNA\"]/df[\"Total_educacion\"]\n",
    "df[\"POSGRADO\"] = df[\"POSGRADO\"]/df[\"Total_educacion\"]\n",
    "df[\"SUPERIOR\"] = df[\"SUPERIOR\"]/df[\"Total_educacion\"]\n",
    "df[\"HOMBRE\"] = df[\"HOMBRE\"]/df[\"Total_sexo\"]\n",
    "df[\"MUJER\"] = df[\"MUJER\"]/df[\"Total_sexo\"]\n",
    "df.drop([\"Total_sexo\", \"Total_educacion\", \"Total_edad\"], axis = 1, inplace = True)\n",
    "df.dropna(inplace = True)"
   ]
  },
  {
   "cell_type": "code",
   "execution_count": 4,
   "metadata": {},
   "outputs": [],
   "source": [
    "#preparamos los datos para el modelo, en especial la columna de USO\n",
    "le = preprocessing.LabelEncoder()\n",
    "scaler = StandardScaler()"
   ]
  },
  {
   "cell_type": "code",
   "execution_count": 5,
   "metadata": {},
   "outputs": [],
   "source": [
    "#reemplazamos en la misma columna de USO el label encoder de scikit\n",
    "le.fit(df[\"USO\"])\n",
    "df[\"USO\"] = le.transform(df[\"USO\"])"
   ]
  },
  {
   "cell_type": "code",
   "execution_count": 6,
   "metadata": {},
   "outputs": [],
   "source": [
    "#estandarizacion de datos y transformacion del df original listo para el modelo\n",
    "df = pd.DataFrame(df, columns = df_or.columns)\n",
    "df = df.drop([\"ZAT\"], axis = 1)"
   ]
  },
  {
   "cell_type": "code",
   "execution_count": 7,
   "metadata": {},
   "outputs": [],
   "source": [
    "#definimos las variables x, y de nuestro modelo\n",
    "x = df.drop([\"N_ORIGEN\", \"N_DESTINO\"], axis = 1)\n",
    "y = df[\"N_ORIGEN\"]\n",
    "y2 = df[\"N_DESTINO\"]"
   ]
  },
  {
   "cell_type": "code",
   "execution_count": 8,
   "metadata": {},
   "outputs": [
    {
     "data": {
      "text/plain": [
       "0.08568236623879522"
      ]
     },
     "execution_count": 8,
     "metadata": {},
     "output_type": "execute_result"
    }
   ],
   "source": [
    "#regresion ridge\n",
    "reg_ridge = linear_model.Ridge(alpha=0)\n",
    "reg_ridge.fit(x, y)\n",
    "reg_ridge.coef_\n",
    "reg_ridge.intercept_\n",
    "reg_ridge.score(x, y)"
   ]
  },
  {
   "cell_type": "code",
   "execution_count": 9,
   "metadata": {},
   "outputs": [
    {
     "data": {
      "text/plain": [
       "array([0.06167751, 0.01405335, 0.0267939 , 0.0361858 , 0.06815984,\n",
       "       0.08685367, 0.09411143, 0.12494941, 0.0726129 , 0.1288619 ,\n",
       "       0.06202204, 0.0766404 , 0.07272212, 0.07435573])"
      ]
     },
     "execution_count": 9,
     "metadata": {},
     "output_type": "execute_result"
    }
   ],
   "source": [
    "#arbol de decision\n",
    "tree = ExtraTreesRegressor(n_estimators=50)\n",
    "tree.fit(x, y2)\n",
    "tree.feature_importances_"
   ]
  },
  {
   "cell_type": "code",
   "execution_count": 10,
   "metadata": {},
   "outputs": [],
   "source": [
    "#al pasarle el resultado nos dice cuales son las variables mas importantes con respecto a al mean\n",
    "imp = tree.feature_importances_\n",
    "mean = np.mean(imp)\n",
    "bool_array = imp >= mean\n",
    "indices = []\n",
    "indices2 = []\n",
    "H = 0\n",
    "H2 = 0\n",
    "for q in range(len(bool_array)):\n",
    "    if ~bool_array[q]:\n",
    "        indices.append(H)\n",
    "    H = H+1     \n",
    "for w in range(len(bool_array)):\n",
    "    if bool_array[w]:\n",
    "        indices2.append(H2)\n",
    "    H2 = H2+1      \n",
    "columnas_eliminar = []\n",
    "columnas_restantes = []\n",
    "for ind in indices:\n",
    "    columnas_eliminar.append(x.columns[ind])\n",
    "for ind in indices2:\n",
    "    columnas_restantes.append(x.columns[ind])"
   ]
  },
  {
   "cell_type": "code",
   "execution_count": 11,
   "metadata": {},
   "outputs": [
    {
     "data": {
      "text/plain": [
       "['ESTRATO', 'USO', 'CUPOS', 'PARQUEADEROS', '20-24', 'POSGRADO']"
      ]
     },
     "execution_count": 11,
     "metadata": {},
     "output_type": "execute_result"
    }
   ],
   "source": [
    "#variables que no son importantes para el modelo\n",
    "columnas_eliminar"
   ]
  },
  {
   "cell_type": "code",
   "execution_count": 12,
   "metadata": {},
   "outputs": [
    {
     "data": {
      "text/plain": [
       "['25-59', '5-19', '60+', 'MEDIA', 'NINGUNA', 'SUPERIOR', 'HOMBRE', 'MUJER']"
      ]
     },
     "execution_count": 12,
     "metadata": {},
     "output_type": "execute_result"
    }
   ],
   "source": [
    "#variables significativas para el modelo\n",
    "columnas_restantes"
   ]
  },
  {
   "cell_type": "code",
   "execution_count": 13,
   "metadata": {},
   "outputs": [],
   "source": [
    "df = df[columnas_restantes]"
   ]
  },
  {
   "cell_type": "code",
   "execution_count": 14,
   "metadata": {},
   "outputs": [
    {
     "name": "stderr",
     "output_type": "stream",
     "text": [
      "C:\\Users\\DNCIESQUENAZI\\anaconda3\\lib\\site-packages\\sklearn\\linear_model\\_ridge.py:148: LinAlgWarning: Ill-conditioned matrix (rcond=3.42245e-19): result may not be accurate.\n",
      "  overwrite_a=True).T\n"
     ]
    },
    {
     "data": {
      "text/plain": [
       "0.06390735565687"
      ]
     },
     "execution_count": 14,
     "metadata": {},
     "output_type": "execute_result"
    }
   ],
   "source": [
    "#regresion ridge\n",
    "reg_ridge = linear_model.Ridge(alpha=0)\n",
    "reg_ridge.fit(df, y)\n",
    "reg_ridge.coef_\n",
    "reg_ridge.intercept_\n",
    "reg_ridge.score(df, y)"
   ]
  },
  {
   "cell_type": "code",
   "execution_count": 15,
   "metadata": {},
   "outputs": [
    {
     "data": {
      "text/plain": [
       "array([ -2389.44204838,  -7970.81304296,  -8795.00193401,   1743.10040511,\n",
       "       -14799.60534589,   1454.24760821,  18670.1483886 ,  27301.07574684])"
      ]
     },
     "execution_count": 15,
     "metadata": {},
     "output_type": "execute_result"
    }
   ],
   "source": [
    "reg_ridge.coef_"
   ]
  },
  {
   "cell_type": "code",
   "execution_count": null,
   "metadata": {},
   "outputs": [],
   "source": []
  },
  {
   "cell_type": "code",
   "execution_count": null,
   "metadata": {},
   "outputs": [],
   "source": []
  }
 ],
 "metadata": {
  "kernelspec": {
   "display_name": "Python 3",
   "language": "python",
   "name": "python3"
  },
  "language_info": {
   "codemirror_mode": {
    "name": "ipython",
    "version": 3
   },
   "file_extension": ".py",
   "mimetype": "text/x-python",
   "name": "python",
   "nbconvert_exporter": "python",
   "pygments_lexer": "ipython3",
   "version": "3.7.6"
  }
 },
 "nbformat": 4,
 "nbformat_minor": 4
}
