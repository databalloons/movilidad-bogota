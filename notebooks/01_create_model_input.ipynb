{
 "cells": [
  {
   "cell_type": "code",
   "execution_count": null,
   "metadata": {
    "pycharm": {
     "name": "#%%\n"
    }
   },
   "outputs": [],
   "source": [
    "import geopandas as gpd\n",
    "import numpy as np\n",
    "import pandas as pd"
   ]
  },
  {
   "cell_type": "code",
   "execution_count": null,
   "metadata": {},
   "outputs": [],
   "source": [
    "paths = {\n",
    "    'censo_mgn': '../data/csv/CNPV2018_MGN_A2_11.csv',\n",
    "    'censo_per': '../data/csv/CNPV2018_5PER_A2_11.csv',\n",
    "    'cicloparqueaderos': '../data/shp/CICLOPARQUEADEROS.shp',\n",
    "    'manzanas': '../data/shp/MANZANA.shp',\n",
    "    'manzanas_mgn': '../data/shp/MGN_URB_MANZANA.shp',\n",
    "    'parqueaderos': '../data/shp/PARQUEADEROS.shp',\n",
    "    'viajes': '../data/csv/ViajesEODH_2019.csv',\n",
    "    'zat': '../data/shp/ZAT.shp'\n",
    "}"
   ]
  },
  {
   "cell_type": "code",
   "execution_count": null,
   "metadata": {},
   "outputs": [],
   "source": [
    "df_censo_mgn = pd.read_csv(paths['censo_mgn'], index_col='COD_ENCUESTAS', dtype=str)\n",
    "df_censo_per = pd.read_csv(paths['censo_per'], index_col='COD_ENCUESTAS', dtype=str)\n",
    "df_viajes = pd.read_csv(paths['viajes'])\n",
    "gdf_cicloparqueaderos = gpd.read_file(paths['cicloparqueaderos'])\n",
    "gdf_manzanas = gpd.read_file(paths['manzanas'])\n",
    "gdf_manzanas_mgn = gpd.read_file(paths['manzanas_mgn'])\n",
    "gdf_parqueaderos = gpd.read_file(paths['parqueaderos'])\n",
    "gdf_zat = gpd.read_file(paths['zat'], encoding='utf-8')"
   ]
  },
  {
   "cell_type": "markdown",
   "metadata": {},
   "source": [
    "### Resumir información demográfica a nivel de encuesta"
   ]
  },
  {
   "cell_type": "code",
   "execution_count": null,
   "metadata": {},
   "outputs": [],
   "source": [
    "dict_edad = {\n",
    "    '1': np.nan,  # menores de 5 años no reportan viajes\n",
    "    '2': '5-19',\n",
    "    '3': '5-19',\n",
    "    '4': '5-19',\n",
    "    '5': '20-24',\n",
    "    '6': '25-59',\n",
    "    '7': '25-59',\n",
    "    '8': '25-59',\n",
    "    '9': '25-59',\n",
    "    '10': '25-59',\n",
    "    '11': '25-59',\n",
    "    '12': '25-59',\n",
    "    '13': '60+',\n",
    "    '14': '60+',\n",
    "    '15': '60+',\n",
    "    '16': '60+',\n",
    "    '17': '60+',\n",
    "    '18': '60+',\n",
    "    '19': '60+',\n",
    "    '20': '60+',\n",
    "    '21': '60+'\n",
    "}\n",
    "\n",
    "dict_educacion = {\n",
    "    '1': 'MEDIA',\n",
    "    '2': 'MEDIA',\n",
    "    '3': 'MEDIA',\n",
    "    '4': 'MEDIA',\n",
    "    '5': 'SUPERIOR',\n",
    "    '6': 'SUPERIOR',\n",
    "    '7': 'SUPERIOR',\n",
    "    '8': 'SUPERIOR',\n",
    "    '9': 'POSGRADO',\n",
    "    '10': 'NINGUNA',\n",
    "    '99': np.nan\n",
    "}\n",
    "\n",
    "dict_sexo = {\n",
    "    '1': 'HOMBRE', \n",
    "    '2': 'MUJER'\n",
    "}"
   ]
  },
  {
   "cell_type": "code",
   "execution_count": null,
   "metadata": {},
   "outputs": [],
   "source": [
    "def counts_per_group(df: pd.DataFrame, groupby_column: str, count_column: str, \n",
    "                     fillna: bool = True, droplevel: bool = True) -> pd.DataFrame:\n",
    "    \"\"\"\n",
    "    Cuenta el número de registros para cada subgrupo en un DataFrame y almacena los\n",
    "    conteos como una nueva columna para cada subgrupo.\n",
    "    \n",
    "    Parameters\n",
    "    ----------\n",
    "    df:              DataFrame original\n",
    "    groupby_column:  nombre de la columna para crear los grupos\n",
    "    count_column:    nombre de la columna para crear los subgrupos y realizar el conteo\n",
    "    fillna:          reemplazar o no los NaNs con 0's\n",
    "    droplevel:       eliminar o no el índice multijerárquico para las columnas\n",
    "    \n",
    "    Return\n",
    "    ------\n",
    "        DataFrame con los conteos para cada subgrupo como una columna\n",
    "    \n",
    "    \"\"\"\n",
    "    count = df.groupby([groupby_column, count_column])[count_column].count()\n",
    "    count = count.rename('COUNT').reset_index(count_column).pivot(columns=count_column)\n",
    "    \n",
    "    if fillna:\n",
    "        count = count.fillna(0)\n",
    "\n",
    "    if droplevel:\n",
    "        count.columns = count.columns.droplevel()\n",
    "    \n",
    "    return count"
   ]
  },
  {
   "cell_type": "code",
   "execution_count": null,
   "metadata": {},
   "outputs": [],
   "source": [
    "columns = {'P_EDADR': dict_edad, 'P_NIVEL_ANOSR': dict_educacion, 'P_SEXO': dict_sexo}\n",
    "for count_column, value_map in columns.items():\n",
    "    df_censo_per[count_column] = df_censo_per[count_column].map(value_map)\n",
    "    count = counts_per_group(df_censo_per, 'COD_ENCUESTAS', count_column)\n",
    "    df_censo_mgn = df_censo_mgn.join(count)"
   ]
  },
  {
   "cell_type": "markdown",
   "metadata": {},
   "source": [
    "### Resumir información demográfica a nivel de manzana censal y cruzar con capa de manzana censal"
   ]
  },
  {
   "cell_type": "code",
   "execution_count": null,
   "metadata": {},
   "outputs": [],
   "source": [
    "df_censo_mgn['MANZ_CCNCT'] = df_censo_mgn['U_SECT_URB'] + df_censo_mgn['U_SECC_URB'] + df_censo_mgn['U_MZA']\n",
    "df_censo_mgn = df_censo_mgn.set_index('MANZ_CCNCT')\n",
    "df_censo_mgn = df_censo_mgn.drop(['U_SECT_URB', 'U_SECC_URB', 'U_MZA'], axis=1)"
   ]
  },
  {
   "cell_type": "code",
   "execution_count": null,
   "metadata": {},
   "outputs": [],
   "source": [
    "df_censo_mgn = df_censo_mgn.groupby('MANZ_CCNCT').agg(sum)"
   ]
  },
  {
   "cell_type": "code",
   "execution_count": null,
   "metadata": {
    "scrolled": true
   },
   "outputs": [],
   "source": [
    "gdf_manzanas_mgn = gdf_manzanas_mgn.set_index('MANZ_CCNCT')\n",
    "gdf_manzanas_mgn = gdf_manzanas_mgn.join(df_censo_mgn).dropna()"
   ]
  },
  {
   "cell_type": "markdown",
   "metadata": {},
   "source": [
    "### Crear matriz origen destino con conteos por ZAT"
   ]
  },
  {
   "cell_type": "code",
   "execution_count": null,
   "metadata": {},
   "outputs": [],
   "source": [
    "# fitrar ZATs para Bogotá\n",
    "gdf_zat = gdf_zat.query('NOMMun == \"Bogotá\"')"
   ]
  },
  {
   "cell_type": "code",
   "execution_count": null,
   "metadata": {},
   "outputs": [],
   "source": [
    "# filtrar viajes bicicleta\n",
    "df_viajes = df_viajes.query('modo_principal == \"Bicicleta\"')"
   ]
  },
  {
   "cell_type": "code",
   "execution_count": null,
   "metadata": {},
   "outputs": [],
   "source": [
    "# TODO ajustar viajes por f_exp"
   ]
  },
  {
   "cell_type": "code",
   "execution_count": null,
   "metadata": {},
   "outputs": [],
   "source": [
    "df = pd.DataFrame(index=sorted(gdf_zat['ZAT'].unique()))"
   ]
  },
  {
   "cell_type": "code",
   "execution_count": null,
   "metadata": {},
   "outputs": [],
   "source": [
    "df = df.join(df_viajes['zat_origen'].value_counts().rename('N_ORIGEN'))\n",
    "df = df.join(df_viajes['zat_destino'].value_counts().rename('N_DESTINO'))"
   ]
  },
  {
   "cell_type": "code",
   "execution_count": null,
   "metadata": {},
   "outputs": [],
   "source": [
    "# eliminar ZATs que no tienen viajes como origen o como destino\n",
    "df = df.dropna()"
   ]
  },
  {
   "cell_type": "markdown",
   "metadata": {
    "pycharm": {
     "name": "#%% md\n"
    }
   },
   "source": [
    "### Cruzar capa de ZAT con capa de manzanas censales y resumir información demográfica a nivel de ZAT"
   ]
  },
  {
   "cell_type": "code",
   "execution_count": null,
   "metadata": {
    "pycharm": {
     "name": "#%%\n"
    }
   },
   "outputs": [],
   "source": [
    "gdf_manzanas_mgn['AREA'] = gdf_manzanas_mgn.geometry.area\n",
    "gdf_intersection = gpd.overlay(gdf_zat, gdf_manzanas_mgn.reset_index(), how='intersection')"
   ]
  },
  {
   "cell_type": "code",
   "execution_count": null,
   "metadata": {
    "scrolled": false
   },
   "outputs": [],
   "source": [
    "# La capa de ZAT presenta un gran número de errores topológicos y sus límites no coinciden\n",
    "# exactamente con los límites de las manzanas censales en varios casos. Para evitar asignar\n",
    "# información demográfica de una manzana censal a múltiples ZAT, se mantiene únicamente el \n",
    "# polígono de la intersección con mayor área para cada manzana censal.\n",
    "gdf_intersection = gdf_intersection.sort_values(['MANZ_CCNCT', 'AREA'], ascending=False)\n",
    "gdf_intersecttion = gdf_intersection.drop_duplicates('MANZ_CCNCT')"
   ]
  },
  {
   "cell_type": "code",
   "execution_count": null,
   "metadata": {},
   "outputs": [],
   "source": [
    "gdf_intersection = gdf_intersection.drop(['MUNCod', 'NOMMun', 'UTAM', 'MANZ_CCNCT'], axis=1)\n",
    "agg = gdf_intersection.groupby('ZAT').agg(sum)"
   ]
  },
  {
   "cell_type": "code",
   "execution_count": null,
   "metadata": {
    "pycharm": {
     "name": "#%%\n"
    }
   },
   "outputs": [],
   "source": [
    "df = df.join(agg.drop('AREA', axis=1))"
   ]
  },
  {
   "cell_type": "markdown",
   "metadata": {
    "pycharm": {
     "name": "#%% md\n"
    }
   },
   "source": [
    "### Cruzar capa de ZAT con capa de manzanas y resumir información de estrato y uso del suelo a nivel de ZAT"
   ]
  },
  {
   "cell_type": "code",
   "execution_count": null,
   "metadata": {},
   "outputs": [],
   "source": [
    "gdf_intersection = gpd.overlay(gdf_zat, gdf_manzanas, how='intersection')"
   ]
  },
  {
   "cell_type": "code",
   "execution_count": null,
   "metadata": {},
   "outputs": [],
   "source": [
    "# obtener estrato con mayor area total dentro de cada ZAT\n",
    "agg = gdf_intersection.groupby(['ZAT','ESTRATO'])['geometry'].agg(lambda x: x.area.sum())\n",
    "top = agg.groupby(level=0, group_keys=False).nlargest(1)\n",
    "df = df.join(top.reset_index('ESTRATO').drop('geometry', axis=1))"
   ]
  },
  {
   "cell_type": "code",
   "execution_count": null,
   "metadata": {},
   "outputs": [],
   "source": [
    "# obtener uso con mayor area total dentro de cada ZAT\n",
    "agg = gdf_intersection.groupby(['ZAT','USO'])['geometry'].agg(lambda x: x.area.sum())\n",
    "top = agg.groupby(level=0, group_keys=False).nlargest(1)\n",
    "df = df.join(top.reset_index('USO').drop('geometry', axis=1))"
   ]
  },
  {
   "cell_type": "markdown",
   "metadata": {},
   "source": [
    "### Agregar número de parqueaderos y cupos de cicloparqueaderos por ZAT"
   ]
  },
  {
   "cell_type": "code",
   "execution_count": null,
   "metadata": {},
   "outputs": [],
   "source": [
    "gdf_intersection = gpd.sjoin(gdf_zat, gdf_cicloparqueaderos, op='intersects')\n",
    "count = gdf_intersection.groupby('ZAT')['CUPOS'].sum()\n",
    "df = df.join(count)\n",
    "df['CUPOS'] = df['CUPOS'].fillna(0)"
   ]
  },
  {
   "cell_type": "code",
   "execution_count": null,
   "metadata": {},
   "outputs": [],
   "source": [
    "gdf_intersection = gpd.sjoin(gdf_zat, gdf_parqueaderos, op='intersects')\n",
    "count = gdf_intersection['ZAT'].value_counts().rename('PARQUEADEROS')\n",
    "df = df.join(count)\n",
    "df['PARQUEADEROS'] = df['PARQUEADEROS'].fillna(0)"
   ]
  }
 ],
 "metadata": {
  "kernelspec": {
   "display_name": "Python 3",
   "language": "python",
   "name": "python3"
  },
  "language_info": {
   "codemirror_mode": {
    "name": "ipython",
    "version": 3
   },
   "file_extension": ".py",
   "mimetype": "text/x-python",
   "name": "python",
   "nbconvert_exporter": "python",
   "pygments_lexer": "ipython3",
   "version": "3.8.2"
  }
 },
 "nbformat": 4,
 "nbformat_minor": 4
}
