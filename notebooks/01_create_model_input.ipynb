{
 "cells": [
  {
   "cell_type": "code",
   "execution_count": null,
   "metadata": {},
   "outputs": [],
   "source": [
    "import geopandas as gpd\n",
    "import pandas as pd"
   ]
  },
  {
   "cell_type": "code",
   "execution_count": null,
   "metadata": {},
   "outputs": [],
   "source": [
    "paths = {\n",
    "    'estratificacion': '../data/shp/ManzanaEstratificacion.shp',\n",
    "    'uso_suelo': '../data/shp/ManzanaUsoSuelo_2019.shp',\n",
    "    'viajes': '../data/csv/ViajesEODH_2019.csv',\n",
    "    'zat': '../data/shp/ZAT.shp'\n",
    "}"
   ]
  },
  {
   "cell_type": "code",
   "execution_count": null,
   "metadata": {},
   "outputs": [],
   "source": [
    "df_viajes = pd.read_csv(paths['viajes'])\n",
    "gdf_estratificacion = gpd.read_file(paths['estratificacion'])\n",
    "gdf_uso_suelo = gpd.read_file(paths['uso_suelo'])\n",
    "gdf_zat = gpd.read_file(paths['zat'], encoding='utf-8')"
   ]
  },
  {
   "cell_type": "code",
   "execution_count": null,
   "metadata": {},
   "outputs": [],
   "source": [
    "# filtrar ZATs para Bogotá\n",
    "gdf_zat = gdf_zat.query('NOMMun == \"Bogotá\"')"
   ]
  },
  {
   "cell_type": "markdown",
   "metadata": {},
   "source": [
    "### 1. Crear matriz origen destino con conteos por ZAT"
   ]
  },
  {
   "cell_type": "code",
   "execution_count": null,
   "metadata": {},
   "outputs": [],
   "source": [
    "df = pd.DataFrame(index=sorted(gdf_zat['ZAT'].unique()))"
   ]
  },
  {
   "cell_type": "code",
   "execution_count": null,
   "metadata": {},
   "outputs": [],
   "source": [
    "df = df.join(df_viajes['zat_origen'].value_counts().rename('N_ORIGEN'))\n",
    "df = df.join(df_viajes['zat_destino'].value_counts().rename('N_DESTINO'))"
   ]
  },
  {
   "cell_type": "code",
   "execution_count": null,
   "metadata": {},
   "outputs": [],
   "source": [
    "# eliminar ZATs que no tienen viajes como origen o como destino\n",
    "df = df.dropna()"
   ]
  },
  {
   "cell_type": "markdown",
   "metadata": {},
   "source": [
    "### 2. Agregar estrato a las ZAT"
   ]
  },
  {
   "cell_type": "code",
   "execution_count": null,
   "metadata": {},
   "outputs": [],
   "source": [
    "# crear interseccion entre ZATs y estratificacion\n",
    "gdf_intersection = gpd.overlay(gdf_zat, gdf_estratificacion, how='intersection')"
   ]
  },
  {
   "cell_type": "code",
   "execution_count": null,
   "metadata": {},
   "outputs": [],
   "source": [
    "# obtener estrato con mayor area total dentro de cada ZAT\n",
    "agg = gdf_intersection.groupby(['ZAT','ESTRATO'])['geometry'].agg(lambda x: x.area.max())\n",
    "top = agg.groupby(level=0, group_keys=False).nlargest(1)"
   ]
  },
  {
   "cell_type": "code",
   "execution_count": null,
   "metadata": {},
   "outputs": [],
   "source": [
    "df = df.join(top.reset_index('ESTRATO').drop('geometry', axis=1))"
   ]
  },
  {
   "cell_type": "code",
   "execution_count": null,
   "metadata": {},
   "outputs": [],
   "source": [
    "# eliminar ZATs que no tienen estrato (no hay interseccion)\n",
    "df = df.dropna()"
   ]
  },
  {
   "cell_type": "markdown",
   "metadata": {},
   "source": [
    "### 3. Agregar uso del suelo a las ZAT"
   ]
  },
  {
   "cell_type": "code",
   "execution_count": null,
   "metadata": {},
   "outputs": [],
   "source": [
    "# crear interseccion entre ZATs y uso de suelo\n",
    "gdf_intersection = gpd.overlay(gdf_zat, gdf_uso_suelo, how='intersection')"
   ]
  },
  {
   "cell_type": "code",
   "execution_count": null,
   "metadata": {},
   "outputs": [],
   "source": [
    "# obtener uso con mayor area total dentro de cada ZAT\n",
    "agg = gdf_intersection.groupby(['ZAT','USO'])['geometry'].agg(lambda x: x.area.max())\n",
    "top = agg.groupby(level=0, group_keys=False).nlargest(1)"
   ]
  },
  {
   "cell_type": "code",
   "execution_count": null,
   "metadata": {},
   "outputs": [],
   "source": [
    "df = df.join(top.reset_index('USO').drop('geometry', axis=1))"
   ]
  },
  {
   "cell_type": "code",
   "execution_count": null,
   "metadata": {},
   "outputs": [],
   "source": [
    "# eliminar ZATs que no tienen uso (no hay interseccion)\n",
    "df = df.dropna()"
   ]
  }
 ],
 "metadata": {
  "kernelspec": {
   "display_name": "Python 3",
   "language": "python",
   "name": "python3"
  },
  "language_info": {
   "codemirror_mode": {
    "name": "ipython",
    "version": 3
   },
   "file_extension": ".py",
   "mimetype": "text/x-python",
   "name": "python",
   "nbconvert_exporter": "python",
   "pygments_lexer": "ipython3",
   "version": "3.8.2"
  }
 },
 "nbformat": 4,
 "nbformat_minor": 4
}
